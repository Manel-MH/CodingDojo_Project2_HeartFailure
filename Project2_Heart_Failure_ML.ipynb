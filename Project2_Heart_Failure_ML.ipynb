{
  "nbformat": 4,
  "nbformat_minor": 0,
  "metadata": {
    "colab": {
      "name": "Project2_Heart_Failure_ML.ipynb",
      "provenance": [],
      "collapsed_sections": [],
      "authorship_tag": "ABX9TyO/EOAn2pfnU48v4O7Qo996",
      "include_colab_link": true
    },
    "kernelspec": {
      "name": "python3",
      "display_name": "Python 3"
    },
    "language_info": {
      "name": "python"
    }
  },
  "cells": [
    {
      "cell_type": "markdown",
      "metadata": {
        "id": "view-in-github",
        "colab_type": "text"
      },
      "source": [
        "<a href=\"https://colab.research.google.com/github/Manel-MH/CodingDojo_Project2_HeartFailure/blob/main/Project2_Heart_Failure_ML.ipynb\" target=\"_parent\"><img src=\"https://colab.research.google.com/assets/colab-badge.svg\" alt=\"Open In Colab\"/></a>"
      ]
    },
    {
      "cell_type": "markdown",
      "metadata": {
        "id": "LdHuoqqIrQ98"
      },
      "source": [
        "Mount Drive"
      ]
    },
    {
      "cell_type": "code",
      "metadata": {
        "colab": {
          "base_uri": "https://localhost:8080/"
        },
        "id": "TdGqdFODrSv2",
        "outputId": "33bdcd09-b6e7-40c9-8a9a-3c55b32675bb"
      },
      "source": [
        "# mount your drive\n",
        "from google.colab import drive\n",
        "drive.mount('/content/drive')"
      ],
      "execution_count": 1,
      "outputs": [
        {
          "output_type": "stream",
          "name": "stdout",
          "text": [
            "Drive already mounted at /content/drive; to attempt to forcibly remount, call drive.mount(\"/content/drive\", force_remount=True).\n"
          ]
        }
      ]
    },
    {
      "cell_type": "markdown",
      "metadata": {
        "id": "7nnCbW0BssNA"
      },
      "source": [
        "Import Libraries"
      ]
    },
    {
      "cell_type": "code",
      "metadata": {
        "id": "3-iy30YSstxp"
      },
      "source": [
        "# Imports\n",
        "import numpy as np\n",
        "import pandas as pd\n",
        "import matplotlib.pyplot as plt\n",
        "import seaborn as sns\n",
        "from sklearn.preprocessing import StandardScaler\n",
        "from sklearn.neighbors import KNeighborsClassifier\n",
        "from sklearn.linear_model import LogisticRegression\n",
        "from sklearn.ensemble import RandomForestClassifier\n",
        "from sklearn.decomposition import PCA\n",
        "from sklearn.pipeline import make_pipeline"
      ],
      "execution_count": 65,
      "outputs": []
    },
    {
      "cell_type": "markdown",
      "metadata": {
        "id": "zFTA0Ac_OSM3"
      },
      "source": [
        "Part2"
      ]
    },
    {
      "cell_type": "markdown",
      "metadata": {
        "id": "rtOdJpUPsvUO"
      },
      "source": [
        "Load Data"
      ]
    },
    {
      "cell_type": "markdown",
      "metadata": {
        "id": "km-Z9ziDRSxU"
      },
      "source": [
        "About this data https://www.kaggle.com/andrewmvd/heart-failure-clinical-data"
      ]
    },
    {
      "cell_type": "code",
      "metadata": {
        "colab": {
          "base_uri": "https://localhost:8080/",
          "height": 226
        },
        "id": "7fkIsqFYsxnA",
        "outputId": "246998d2-c488-4673-d755-7898b9a64b6c"
      },
      "source": [
        "#load data\n",
        "df = pd.read_csv('/content/drive/MyDrive/Colab Notebooks/datasets/heart_failure_clinical_records_dataset (1).csv')\n",
        "df.head()"
      ],
      "execution_count": 3,
      "outputs": [
        {
          "output_type": "execute_result",
          "data": {
            "text/html": [
              "<div>\n",
              "<style scoped>\n",
              "    .dataframe tbody tr th:only-of-type {\n",
              "        vertical-align: middle;\n",
              "    }\n",
              "\n",
              "    .dataframe tbody tr th {\n",
              "        vertical-align: top;\n",
              "    }\n",
              "\n",
              "    .dataframe thead th {\n",
              "        text-align: right;\n",
              "    }\n",
              "</style>\n",
              "<table border=\"1\" class=\"dataframe\">\n",
              "  <thead>\n",
              "    <tr style=\"text-align: right;\">\n",
              "      <th></th>\n",
              "      <th>age</th>\n",
              "      <th>anaemia</th>\n",
              "      <th>creatinine_phosphokinase</th>\n",
              "      <th>diabetes</th>\n",
              "      <th>ejection_fraction</th>\n",
              "      <th>high_blood_pressure</th>\n",
              "      <th>platelets</th>\n",
              "      <th>serum_creatinine</th>\n",
              "      <th>serum_sodium</th>\n",
              "      <th>sex</th>\n",
              "      <th>smoking</th>\n",
              "      <th>time</th>\n",
              "      <th>DEATH_EVENT</th>\n",
              "    </tr>\n",
              "  </thead>\n",
              "  <tbody>\n",
              "    <tr>\n",
              "      <th>0</th>\n",
              "      <td>75.0</td>\n",
              "      <td>0</td>\n",
              "      <td>582</td>\n",
              "      <td>0</td>\n",
              "      <td>20</td>\n",
              "      <td>1</td>\n",
              "      <td>265000.00</td>\n",
              "      <td>1.9</td>\n",
              "      <td>130</td>\n",
              "      <td>1</td>\n",
              "      <td>0</td>\n",
              "      <td>4</td>\n",
              "      <td>1</td>\n",
              "    </tr>\n",
              "    <tr>\n",
              "      <th>1</th>\n",
              "      <td>55.0</td>\n",
              "      <td>0</td>\n",
              "      <td>7861</td>\n",
              "      <td>0</td>\n",
              "      <td>38</td>\n",
              "      <td>0</td>\n",
              "      <td>263358.03</td>\n",
              "      <td>1.1</td>\n",
              "      <td>136</td>\n",
              "      <td>1</td>\n",
              "      <td>0</td>\n",
              "      <td>6</td>\n",
              "      <td>1</td>\n",
              "    </tr>\n",
              "    <tr>\n",
              "      <th>2</th>\n",
              "      <td>65.0</td>\n",
              "      <td>0</td>\n",
              "      <td>146</td>\n",
              "      <td>0</td>\n",
              "      <td>20</td>\n",
              "      <td>0</td>\n",
              "      <td>162000.00</td>\n",
              "      <td>1.3</td>\n",
              "      <td>129</td>\n",
              "      <td>1</td>\n",
              "      <td>1</td>\n",
              "      <td>7</td>\n",
              "      <td>1</td>\n",
              "    </tr>\n",
              "    <tr>\n",
              "      <th>3</th>\n",
              "      <td>50.0</td>\n",
              "      <td>1</td>\n",
              "      <td>111</td>\n",
              "      <td>0</td>\n",
              "      <td>20</td>\n",
              "      <td>0</td>\n",
              "      <td>210000.00</td>\n",
              "      <td>1.9</td>\n",
              "      <td>137</td>\n",
              "      <td>1</td>\n",
              "      <td>0</td>\n",
              "      <td>7</td>\n",
              "      <td>1</td>\n",
              "    </tr>\n",
              "    <tr>\n",
              "      <th>4</th>\n",
              "      <td>65.0</td>\n",
              "      <td>1</td>\n",
              "      <td>160</td>\n",
              "      <td>1</td>\n",
              "      <td>20</td>\n",
              "      <td>0</td>\n",
              "      <td>327000.00</td>\n",
              "      <td>2.7</td>\n",
              "      <td>116</td>\n",
              "      <td>0</td>\n",
              "      <td>0</td>\n",
              "      <td>8</td>\n",
              "      <td>1</td>\n",
              "    </tr>\n",
              "  </tbody>\n",
              "</table>\n",
              "</div>"
            ],
            "text/plain": [
              "    age  anaemia  creatinine_phosphokinase  ...  smoking  time  DEATH_EVENT\n",
              "0  75.0        0                       582  ...        0     4            1\n",
              "1  55.0        0                      7861  ...        0     6            1\n",
              "2  65.0        0                       146  ...        1     7            1\n",
              "3  50.0        1                       111  ...        0     7            1\n",
              "4  65.0        1                       160  ...        0     8            1\n",
              "\n",
              "[5 rows x 13 columns]"
            ]
          },
          "metadata": {},
          "execution_count": 3
        }
      ]
    },
    {
      "cell_type": "markdown",
      "metadata": {
        "id": "9KzBA9BpOYam"
      },
      "source": [
        "Data Exploration"
      ]
    },
    {
      "cell_type": "code",
      "metadata": {
        "colab": {
          "base_uri": "https://localhost:8080/"
        },
        "id": "ay8vOcxGxMeJ",
        "outputId": "41443682-0fe2-46a4-be9e-7378258c7f9e"
      },
      "source": [
        "df.info()"
      ],
      "execution_count": 4,
      "outputs": [
        {
          "output_type": "stream",
          "name": "stdout",
          "text": [
            "<class 'pandas.core.frame.DataFrame'>\n",
            "RangeIndex: 299 entries, 0 to 298\n",
            "Data columns (total 13 columns):\n",
            " #   Column                    Non-Null Count  Dtype  \n",
            "---  ------                    --------------  -----  \n",
            " 0   age                       299 non-null    float64\n",
            " 1   anaemia                   299 non-null    int64  \n",
            " 2   creatinine_phosphokinase  299 non-null    int64  \n",
            " 3   diabetes                  299 non-null    int64  \n",
            " 4   ejection_fraction         299 non-null    int64  \n",
            " 5   high_blood_pressure       299 non-null    int64  \n",
            " 6   platelets                 299 non-null    float64\n",
            " 7   serum_creatinine          299 non-null    float64\n",
            " 8   serum_sodium              299 non-null    int64  \n",
            " 9   sex                       299 non-null    int64  \n",
            " 10  smoking                   299 non-null    int64  \n",
            " 11  time                      299 non-null    int64  \n",
            " 12  DEATH_EVENT               299 non-null    int64  \n",
            "dtypes: float64(3), int64(10)\n",
            "memory usage: 30.5 KB\n"
          ]
        }
      ]
    },
    {
      "cell_type": "code",
      "metadata": {
        "colab": {
          "base_uri": "https://localhost:8080/"
        },
        "id": "It9BlnEZwxRs",
        "outputId": "3eddfe0c-62cb-4864-fe3f-789342e62935"
      },
      "source": [
        "df.dtypes"
      ],
      "execution_count": 5,
      "outputs": [
        {
          "output_type": "execute_result",
          "data": {
            "text/plain": [
              "age                         float64\n",
              "anaemia                       int64\n",
              "creatinine_phosphokinase      int64\n",
              "diabetes                      int64\n",
              "ejection_fraction             int64\n",
              "high_blood_pressure           int64\n",
              "platelets                   float64\n",
              "serum_creatinine            float64\n",
              "serum_sodium                  int64\n",
              "sex                           int64\n",
              "smoking                       int64\n",
              "time                          int64\n",
              "DEATH_EVENT                   int64\n",
              "dtype: object"
            ]
          },
          "metadata": {},
          "execution_count": 5
        }
      ]
    },
    {
      "cell_type": "code",
      "metadata": {
        "colab": {
          "base_uri": "https://localhost:8080/"
        },
        "id": "BewgRM2Lw--j",
        "outputId": "0096ecda-23f7-4c80-90a3-66f73f22be3d"
      },
      "source": [
        "df.isnull().sum()"
      ],
      "execution_count": 6,
      "outputs": [
        {
          "output_type": "execute_result",
          "data": {
            "text/plain": [
              "age                         0\n",
              "anaemia                     0\n",
              "creatinine_phosphokinase    0\n",
              "diabetes                    0\n",
              "ejection_fraction           0\n",
              "high_blood_pressure         0\n",
              "platelets                   0\n",
              "serum_creatinine            0\n",
              "serum_sodium                0\n",
              "sex                         0\n",
              "smoking                     0\n",
              "time                        0\n",
              "DEATH_EVENT                 0\n",
              "dtype: int64"
            ]
          },
          "metadata": {},
          "execution_count": 6
        }
      ]
    },
    {
      "cell_type": "markdown",
      "metadata": {
        "id": "dbLWVz02Ol92"
      },
      "source": [
        "Univariates Distributions with visualizations"
      ]
    },
    {
      "cell_type": "markdown",
      "metadata": {
        "id": "lXZMQmMTuYvC"
      },
      "source": [
        "Plot age frequency of patients"
      ]
    },
    {
      "cell_type": "code",
      "metadata": {
        "colab": {
          "base_uri": "https://localhost:8080/",
          "height": 377
        },
        "id": "xA7WmBpIueDZ",
        "outputId": "f2e6cf5a-b963-4458-9974-97baa59c8480"
      },
      "source": [
        "plt.figure(figsize=(10,6))\n",
        "plt.title(\"Age Frequency\")\n",
        "sns.axes_style(\"dark\")\n",
        "sns.violinplot(y=df[\"age\"])\n",
        "plt.show()"
      ],
      "execution_count": 7,
      "outputs": [
        {
          "output_type": "display_data",
          "data": {
            "image/png": "[encoded data removed]",
            "text/plain": [
              "<Figure size 720x432 with 1 Axes>"
            ]
          },
          "metadata": {
            "needs_background": "light"
          }
        }
      ]
    },
    {
      "cell_type": "markdown",
      "metadata": {
        "id": "q3AHn8ljvlmY"
      },
      "source": [
        "Boxplots to check for outliers"
      ]
    },
    {
      "cell_type": "code",
      "metadata": {
        "colab": {
          "base_uri": "https://localhost:8080/",
          "height": 322
        },
        "id": "7rPdKMJWvoVz",
        "outputId": "f1b17800-b609-4692-91c7-b19c1f46616b"
      },
      "source": [
        "plt.figure(figsize=(15,6))\n",
        "plt.subplot(1,2,1)\n",
        "sns.boxplot(y=df['creatinine_phosphokinase'], color=\"red\")\n",
        "plt.subplot(1,2,2)\n",
        "sns.boxplot(y=df['serum_creatinine'])\n",
        "plt.show()"
      ],
      "execution_count": 8,
      "outputs": [
        {
          "output_type": "display_data",
          "data": {
            "image/png": "[encoded data removed]",
            "text/plain": [
              "<Figure size 1080x432 with 2 Axes>"
            ]
          },
          "metadata": {
            "needs_background": "light"
          }
        }
      ]
    },
    {
      "cell_type": "markdown",
      "metadata": {
        "id": "PqJoGX0jwAkj"
      },
      "source": [
        "These boxplots show the distribution range amongst the patients for creatinine_phosphokinase and serum_creatinine. The distribution is skewed towards lower end with outliers sitting on the higher end. These outliers seem possible if they are related to disease and outcome."
      ]
    },
    {
      "cell_type": "code",
      "metadata": {
        "colab": {
          "base_uri": "https://localhost:8080/",
          "height": 326
        },
        "id": "mJckKwM6weIg",
        "outputId": "5125bb7a-44ad-4fce-f1dc-e791c3888a22"
      },
      "source": [
        "plt.figure(figsize=(15,6))\n",
        "plt.subplot(1,2,1)\n",
        "sns.boxplot(y=df['age'], color=\"red\")\n",
        "plt.subplot(1,2,2)\n",
        "sns.boxplot(y=df['serum_sodium'])\n",
        "plt.show()"
      ],
      "execution_count": 9,
      "outputs": [
        {
          "output_type": "display_data",
          "data": {
            "image/png": "[encoded data removed]",
            "text/plain": [
              "<Figure size 1080x432 with 2 Axes>"
            ]
          },
          "metadata": {
            "needs_background": "light"
          }
        }
      ]
    },
    {
      "cell_type": "markdown",
      "metadata": {
        "id": "x7qbpgZHxsZz"
      },
      "source": [
        "These boxplots show the distribution range amongst the patients for age and serum_sodium. The distribution for age looks good. The serum_sodium distribution is skewed toward higher end and there are some outliers in the lower end. These outliers seem possible if they are related to disease and outcome."
      ]
    },
    {
      "cell_type": "code",
      "metadata": {
        "colab": {
          "base_uri": "https://localhost:8080/",
          "height": 326
        },
        "id": "kl-KtHA6x_s1",
        "outputId": "d2727afb-c279-49c3-b54f-30afaa8552df"
      },
      "source": [
        "plt.figure(figsize=(15,6))\n",
        "plt.subplot(1,2,1)\n",
        "sns.boxplot(y=df['ejection_fraction'], color=\"red\")\n",
        "plt.subplot(1,2,2)\n",
        "sns.boxplot(y=df['time'])\n",
        "plt.show()"
      ],
      "execution_count": 10,
      "outputs": [
        {
          "output_type": "display_data",
          "data": {
            "image/png": "[encoded data removed]",
            "text/plain": [
              "<Figure size 1080x432 with 2 Axes>"
            ]
          },
          "metadata": {
            "needs_background": "light"
          }
        }
      ]
    },
    {
      "cell_type": "markdown",
      "metadata": {
        "id": "qgfCg3_f3Qzn"
      },
      "source": [
        "These boxplots show the distribution range amongst the patients for ejection_fraction and time. Both distributions look good. The ejection_fraction outliers seem possible if they are related to disease and outcome."
      ]
    },
    {
      "cell_type": "markdown",
      "metadata": {
        "id": "iUhTt72_QslC"
      },
      "source": [
        "Let's run a value count on each column to check for typos, mispelling and reporting errors."
      ]
    },
    {
      "cell_type": "code",
      "metadata": {
        "colab": {
          "base_uri": "https://localhost:8080/"
        },
        "id": "q4DSOTm-6IgO",
        "outputId": "58d4ea8b-0480-44e8-b2c1-b8982c760bf7"
      },
      "source": [
        "#value counts\n",
        "df['age'].value_counts()"
      ],
      "execution_count": 11,
      "outputs": [
        {
          "output_type": "execute_result",
          "data": {
            "text/plain": [
              "60.000    33\n",
              "50.000    27\n",
              "65.000    26\n",
              "70.000    25\n",
              "45.000    19\n",
              "55.000    17\n",
              "75.000    11\n",
              "58.000    10\n",
              "53.000    10\n",
              "63.000     8\n",
              "80.000     7\n",
              "72.000     7\n",
              "42.000     7\n",
              "40.000     7\n",
              "85.000     6\n",
              "62.000     5\n",
              "68.000     5\n",
              "52.000     5\n",
              "49.000     4\n",
              "61.000     4\n",
              "51.000     4\n",
              "73.000     4\n",
              "59.000     4\n",
              "46.000     3\n",
              "64.000     3\n",
              "82.000     3\n",
              "90.000     3\n",
              "69.000     3\n",
              "95.000     2\n",
              "48.000     2\n",
              "60.667     2\n",
              "67.000     2\n",
              "44.000     2\n",
              "66.000     2\n",
              "77.000     2\n",
              "78.000     2\n",
              "54.000     2\n",
              "57.000     2\n",
              "94.000     1\n",
              "56.000     1\n",
              "41.000     1\n",
              "87.000     1\n",
              "79.000     1\n",
              "86.000     1\n",
              "43.000     1\n",
              "81.000     1\n",
              "47.000     1\n",
              "Name: age, dtype: int64"
            ]
          },
          "metadata": {},
          "execution_count": 11
        }
      ]
    },
    {
      "cell_type": "code",
      "metadata": {
        "colab": {
          "base_uri": "https://localhost:8080/"
        },
        "id": "0e5aV7BT6S88",
        "outputId": "3dbd4599-eebc-4ed7-88ff-a9e289a354de"
      },
      "source": [
        "df['anaemia'].value_counts()"
      ],
      "execution_count": 12,
      "outputs": [
        {
          "output_type": "execute_result",
          "data": {
            "text/plain": [
              "0    170\n",
              "1    129\n",
              "Name: anaemia, dtype: int64"
            ]
          },
          "metadata": {},
          "execution_count": 12
        }
      ]
    },
    {
      "cell_type": "code",
      "metadata": {
        "colab": {
          "base_uri": "https://localhost:8080/"
        },
        "id": "eyeAhr956X0e",
        "outputId": "1eee2121-b288-4a84-ab4c-f7d42344dd23"
      },
      "source": [
        "df['creatinine_phosphokinase'].value_counts() "
      ],
      "execution_count": 13,
      "outputs": [
        {
          "output_type": "execute_result",
          "data": {
            "text/plain": [
              "582     47\n",
              "66       4\n",
              "129      4\n",
              "84       3\n",
              "231      3\n",
              "        ..\n",
              "395      1\n",
              "754      1\n",
              "2334     1\n",
              "2695     1\n",
              "514      1\n",
              "Name: creatinine_phosphokinase, Length: 208, dtype: int64"
            ]
          },
          "metadata": {},
          "execution_count": 13
        }
      ]
    },
    {
      "cell_type": "code",
      "metadata": {
        "colab": {
          "base_uri": "https://localhost:8080/"
        },
        "id": "mHoPM5_96ec9",
        "outputId": "40f20d9d-dcc6-43d3-f945-8696f4bc2cc8"
      },
      "source": [
        "df['diabetes'].value_counts()"
      ],
      "execution_count": 14,
      "outputs": [
        {
          "output_type": "execute_result",
          "data": {
            "text/plain": [
              "0    174\n",
              "1    125\n",
              "Name: diabetes, dtype: int64"
            ]
          },
          "metadata": {},
          "execution_count": 14
        }
      ]
    },
    {
      "cell_type": "code",
      "metadata": {
        "colab": {
          "base_uri": "https://localhost:8080/"
        },
        "id": "4Z0-BFJS6iT8",
        "outputId": "57dc0dbc-0113-4510-8733-000bc35c7ea4"
      },
      "source": [
        "df['ejection_fraction'].value_counts()"
      ],
      "execution_count": 15,
      "outputs": [
        {
          "output_type": "execute_result",
          "data": {
            "text/plain": [
              "35    49\n",
              "38    40\n",
              "40    37\n",
              "25    36\n",
              "30    34\n",
              "60    31\n",
              "50    21\n",
              "45    20\n",
              "20    18\n",
              "55     3\n",
              "15     2\n",
              "62     2\n",
              "17     2\n",
              "80     1\n",
              "70     1\n",
              "65     1\n",
              "14     1\n",
              "Name: ejection_fraction, dtype: int64"
            ]
          },
          "metadata": {},
          "execution_count": 15
        }
      ]
    },
    {
      "cell_type": "code",
      "metadata": {
        "colab": {
          "base_uri": "https://localhost:8080/"
        },
        "id": "xPe2PhX26nyz",
        "outputId": "00cdcaa8-01bb-4660-c6f0-364846ce4571"
      },
      "source": [
        "df['high_blood_pressure'].value_counts()"
      ],
      "execution_count": 16,
      "outputs": [
        {
          "output_type": "execute_result",
          "data": {
            "text/plain": [
              "0    194\n",
              "1    105\n",
              "Name: high_blood_pressure, dtype: int64"
            ]
          },
          "metadata": {},
          "execution_count": 16
        }
      ]
    },
    {
      "cell_type": "code",
      "metadata": {
        "colab": {
          "base_uri": "https://localhost:8080/"
        },
        "id": "fL0LhhRv6sMa",
        "outputId": "061e1f3e-5f27-4645-9d98-d94a5dc4bdc6"
      },
      "source": [
        "df['platelets'].value_counts()"
      ],
      "execution_count": 17,
      "outputs": [
        {
          "output_type": "execute_result",
          "data": {
            "text/plain": [
              "263358.03    25\n",
              "271000.00     4\n",
              "221000.00     4\n",
              "255000.00     4\n",
              "228000.00     4\n",
              "             ..\n",
              "330000.00     1\n",
              "217000.00     1\n",
              "268000.00     1\n",
              "358000.00     1\n",
              "448000.00     1\n",
              "Name: platelets, Length: 176, dtype: int64"
            ]
          },
          "metadata": {},
          "execution_count": 17
        }
      ]
    },
    {
      "cell_type": "code",
      "metadata": {
        "colab": {
          "base_uri": "https://localhost:8080/"
        },
        "id": "MGVjG06g63oX",
        "outputId": "7304980f-c208-488b-c21d-5a8b2b10d260"
      },
      "source": [
        "df['serum_creatinine'].value_counts()"
      ],
      "execution_count": 18,
      "outputs": [
        {
          "output_type": "execute_result",
          "data": {
            "text/plain": [
              "1.00    50\n",
              "0.90    32\n",
              "1.10    32\n",
              "1.20    24\n",
              "0.80    24\n",
              "1.30    20\n",
              "0.70    19\n",
              "1.18    11\n",
              "1.40     9\n",
              "1.70     9\n",
              "1.83     8\n",
              "1.60     6\n",
              "1.90     5\n",
              "1.50     5\n",
              "2.10     5\n",
              "1.80     4\n",
              "0.60     4\n",
              "2.30     3\n",
              "2.70     3\n",
              "2.50     3\n",
              "3.50     2\n",
              "3.00     2\n",
              "2.40     2\n",
              "0.50     1\n",
              "2.00     1\n",
              "0.75     1\n",
              "9.00     1\n",
              "4.00     1\n",
              "5.00     1\n",
              "3.20     1\n",
              "3.70     1\n",
              "2.90     1\n",
              "9.40     1\n",
              "2.20     1\n",
              "6.10     1\n",
              "3.80     1\n",
              "5.80     1\n",
              "6.80     1\n",
              "4.40     1\n",
              "3.40     1\n",
              "Name: serum_creatinine, dtype: int64"
            ]
          },
          "metadata": {},
          "execution_count": 18
        }
      ]
    },
    {
      "cell_type": "code",
      "metadata": {
        "colab": {
          "base_uri": "https://localhost:8080/"
        },
        "id": "1xgJS1vaK5M5",
        "outputId": "180ed36e-90f3-4889-f6a5-30d8fcf9eca0"
      },
      "source": [
        "df['serum_sodium'].value_counts()"
      ],
      "execution_count": 19,
      "outputs": [
        {
          "output_type": "execute_result",
          "data": {
            "text/plain": [
              "136    40\n",
              "137    38\n",
              "140    35\n",
              "134    32\n",
              "138    23\n",
              "139    22\n",
              "135    16\n",
              "132    14\n",
              "141    12\n",
              "142    11\n",
              "133    10\n",
              "145     9\n",
              "130     9\n",
              "144     5\n",
              "131     5\n",
              "143     3\n",
              "127     3\n",
              "128     2\n",
              "129     2\n",
              "116     1\n",
              "124     1\n",
              "121     1\n",
              "148     1\n",
              "125     1\n",
              "126     1\n",
              "146     1\n",
              "113     1\n",
              "Name: serum_sodium, dtype: int64"
            ]
          },
          "metadata": {},
          "execution_count": 19
        }
      ]
    },
    {
      "cell_type": "code",
      "metadata": {
        "colab": {
          "base_uri": "https://localhost:8080/"
        },
        "id": "jwRCqqHrK6Ur",
        "outputId": "3898a354-8bb2-4a5f-91e2-38fc96a8081a"
      },
      "source": [
        "df['sex'].value_counts()"
      ],
      "execution_count": 20,
      "outputs": [
        {
          "output_type": "execute_result",
          "data": {
            "text/plain": [
              "1    194\n",
              "0    105\n",
              "Name: sex, dtype: int64"
            ]
          },
          "metadata": {},
          "execution_count": 20
        }
      ]
    },
    {
      "cell_type": "code",
      "metadata": {
        "colab": {
          "base_uri": "https://localhost:8080/"
        },
        "id": "xyd8MahuK7Iu",
        "outputId": "98c79004-6c85-4165-84bd-261d47a42f31"
      },
      "source": [
        "df['smoking'].value_counts()"
      ],
      "execution_count": 21,
      "outputs": [
        {
          "output_type": "execute_result",
          "data": {
            "text/plain": [
              "0    203\n",
              "1     96\n",
              "Name: smoking, dtype: int64"
            ]
          },
          "metadata": {},
          "execution_count": 21
        }
      ]
    },
    {
      "cell_type": "code",
      "metadata": {
        "colab": {
          "base_uri": "https://localhost:8080/"
        },
        "id": "IwZ1-ytbK840",
        "outputId": "33be1df8-00ff-4539-8537-25eefbac011a"
      },
      "source": [
        "df['time'].value_counts()"
      ],
      "execution_count": 22,
      "outputs": [
        {
          "output_type": "execute_result",
          "data": {
            "text/plain": [
              "187    7\n",
              "250    7\n",
              "186    6\n",
              "107    6\n",
              "10     6\n",
              "      ..\n",
              "135    1\n",
              "140    1\n",
              "148    1\n",
              "150    1\n",
              "4      1\n",
              "Name: time, Length: 148, dtype: int64"
            ]
          },
          "metadata": {},
          "execution_count": 22
        }
      ]
    },
    {
      "cell_type": "code",
      "metadata": {
        "colab": {
          "base_uri": "https://localhost:8080/"
        },
        "id": "8A9DAYQCK9nS",
        "outputId": "ae7fc592-d4c9-4f13-a466-3b0ad7d78f95"
      },
      "source": [
        "df['DEATH_EVENT'].value_counts()"
      ],
      "execution_count": 23,
      "outputs": [
        {
          "output_type": "execute_result",
          "data": {
            "text/plain": [
              "0    203\n",
              "1     96\n",
              "Name: DEATH_EVENT, dtype: int64"
            ]
          },
          "metadata": {},
          "execution_count": 23
        }
      ]
    },
    {
      "cell_type": "markdown",
      "metadata": {
        "id": "O_pGeRhaQ41I"
      },
      "source": [
        "Let's run some descriptive statistics on the dataframe"
      ]
    },
    {
      "cell_type": "code",
      "metadata": {
        "colab": {
          "base_uri": "https://localhost:8080/",
          "height": 320
        },
        "id": "huSCi6z_M8fK",
        "outputId": "9a9a4a0b-8214-4471-da5e-d089c8cad18c"
      },
      "source": [
        "#stats\n",
        "df.describe()"
      ],
      "execution_count": 24,
      "outputs": [
        {
          "output_type": "execute_result",
          "data": {
            "text/html": [
              "<div>\n",
              "<style scoped>\n",
              "    .dataframe tbody tr th:only-of-type {\n",
              "        vertical-align: middle;\n",
              "    }\n",
              "\n",
              "    .dataframe tbody tr th {\n",
              "        vertical-align: top;\n",
              "    }\n",
              "\n",
              "    .dataframe thead th {\n",
              "        text-align: right;\n",
              "    }\n",
              "</style>\n",
              "<table border=\"1\" class=\"dataframe\">\n",
              "  <thead>\n",
              "    <tr style=\"text-align: right;\">\n",
              "      <th></th>\n",
              "      <th>age</th>\n",
              "      <th>anaemia</th>\n",
              "      <th>creatinine_phosphokinase</th>\n",
              "      <th>diabetes</th>\n",
              "      <th>ejection_fraction</th>\n",
              "      <th>high_blood_pressure</th>\n",
              "      <th>platelets</th>\n",
              "      <th>serum_creatinine</th>\n",
              "      <th>serum_sodium</th>\n",
              "      <th>sex</th>\n",
              "      <th>smoking</th>\n",
              "      <th>time</th>\n",
              "      <th>DEATH_EVENT</th>\n",
              "    </tr>\n",
              "  </thead>\n",
              "  <tbody>\n",
              "    <tr>\n",
              "      <th>count</th>\n",
              "      <td>299.000000</td>\n",
              "      <td>299.000000</td>\n",
              "      <td>299.000000</td>\n",
              "      <td>299.000000</td>\n",
              "      <td>299.000000</td>\n",
              "      <td>299.000000</td>\n",
              "      <td>299.000000</td>\n",
              "      <td>299.00000</td>\n",
              "      <td>299.000000</td>\n",
              "      <td>299.000000</td>\n",
              "      <td>299.00000</td>\n",
              "      <td>299.000000</td>\n",
              "      <td>299.00000</td>\n",
              "    </tr>\n",
              "    <tr>\n",
              "      <th>mean</th>\n",
              "      <td>60.833893</td>\n",
              "      <td>0.431438</td>\n",
              "      <td>581.839465</td>\n",
              "      <td>0.418060</td>\n",
              "      <td>38.083612</td>\n",
              "      <td>0.351171</td>\n",
              "      <td>263358.029264</td>\n",
              "      <td>1.39388</td>\n",
              "      <td>136.625418</td>\n",
              "      <td>0.648829</td>\n",
              "      <td>0.32107</td>\n",
              "      <td>130.260870</td>\n",
              "      <td>0.32107</td>\n",
              "    </tr>\n",
              "    <tr>\n",
              "      <th>std</th>\n",
              "      <td>11.894809</td>\n",
              "      <td>0.496107</td>\n",
              "      <td>970.287881</td>\n",
              "      <td>0.494067</td>\n",
              "      <td>11.834841</td>\n",
              "      <td>0.478136</td>\n",
              "      <td>97804.236869</td>\n",
              "      <td>1.03451</td>\n",
              "      <td>4.412477</td>\n",
              "      <td>0.478136</td>\n",
              "      <td>0.46767</td>\n",
              "      <td>77.614208</td>\n",
              "      <td>0.46767</td>\n",
              "    </tr>\n",
              "    <tr>\n",
              "      <th>min</th>\n",
              "      <td>40.000000</td>\n",
              "      <td>0.000000</td>\n",
              "      <td>23.000000</td>\n",
              "      <td>0.000000</td>\n",
              "      <td>14.000000</td>\n",
              "      <td>0.000000</td>\n",
              "      <td>25100.000000</td>\n",
              "      <td>0.50000</td>\n",
              "      <td>113.000000</td>\n",
              "      <td>0.000000</td>\n",
              "      <td>0.00000</td>\n",
              "      <td>4.000000</td>\n",
              "      <td>0.00000</td>\n",
              "    </tr>\n",
              "    <tr>\n",
              "      <th>25%</th>\n",
              "      <td>51.000000</td>\n",
              "      <td>0.000000</td>\n",
              "      <td>116.500000</td>\n",
              "      <td>0.000000</td>\n",
              "      <td>30.000000</td>\n",
              "      <td>0.000000</td>\n",
              "      <td>212500.000000</td>\n",
              "      <td>0.90000</td>\n",
              "      <td>134.000000</td>\n",
              "      <td>0.000000</td>\n",
              "      <td>0.00000</td>\n",
              "      <td>73.000000</td>\n",
              "      <td>0.00000</td>\n",
              "    </tr>\n",
              "    <tr>\n",
              "      <th>50%</th>\n",
              "      <td>60.000000</td>\n",
              "      <td>0.000000</td>\n",
              "      <td>250.000000</td>\n",
              "      <td>0.000000</td>\n",
              "      <td>38.000000</td>\n",
              "      <td>0.000000</td>\n",
              "      <td>262000.000000</td>\n",
              "      <td>1.10000</td>\n",
              "      <td>137.000000</td>\n",
              "      <td>1.000000</td>\n",
              "      <td>0.00000</td>\n",
              "      <td>115.000000</td>\n",
              "      <td>0.00000</td>\n",
              "    </tr>\n",
              "    <tr>\n",
              "      <th>75%</th>\n",
              "      <td>70.000000</td>\n",
              "      <td>1.000000</td>\n",
              "      <td>582.000000</td>\n",
              "      <td>1.000000</td>\n",
              "      <td>45.000000</td>\n",
              "      <td>1.000000</td>\n",
              "      <td>303500.000000</td>\n",
              "      <td>1.40000</td>\n",
              "      <td>140.000000</td>\n",
              "      <td>1.000000</td>\n",
              "      <td>1.00000</td>\n",
              "      <td>203.000000</td>\n",
              "      <td>1.00000</td>\n",
              "    </tr>\n",
              "    <tr>\n",
              "      <th>max</th>\n",
              "      <td>95.000000</td>\n",
              "      <td>1.000000</td>\n",
              "      <td>7861.000000</td>\n",
              "      <td>1.000000</td>\n",
              "      <td>80.000000</td>\n",
              "      <td>1.000000</td>\n",
              "      <td>850000.000000</td>\n",
              "      <td>9.40000</td>\n",
              "      <td>148.000000</td>\n",
              "      <td>1.000000</td>\n",
              "      <td>1.00000</td>\n",
              "      <td>285.000000</td>\n",
              "      <td>1.00000</td>\n",
              "    </tr>\n",
              "  </tbody>\n",
              "</table>\n",
              "</div>"
            ],
            "text/plain": [
              "              age     anaemia  ...        time  DEATH_EVENT\n",
              "count  299.000000  299.000000  ...  299.000000    299.00000\n",
              "mean    60.833893    0.431438  ...  130.260870      0.32107\n",
              "std     11.894809    0.496107  ...   77.614208      0.46767\n",
              "min     40.000000    0.000000  ...    4.000000      0.00000\n",
              "25%     51.000000    0.000000  ...   73.000000      0.00000\n",
              "50%     60.000000    0.000000  ...  115.000000      0.00000\n",
              "75%     70.000000    1.000000  ...  203.000000      1.00000\n",
              "max     95.000000    1.000000  ...  285.000000      1.00000\n",
              "\n",
              "[8 rows x 13 columns]"
            ]
          },
          "metadata": {},
          "execution_count": 24
        }
      ]
    },
    {
      "cell_type": "markdown",
      "metadata": {
        "id": "vJR7imT9wJMf"
      },
      "source": [
        "Part 3"
      ]
    },
    {
      "cell_type": "markdown",
      "metadata": {
        "id": "WtK4FakqivYV"
      },
      "source": [
        "Target is DEATH_EVENT"
      ]
    },
    {
      "cell_type": "markdown",
      "metadata": {
        "id": "8vyybBw_9MqX"
      },
      "source": [
        "Is it balanced?"
      ]
    },
    {
      "cell_type": "code",
      "metadata": {
        "colab": {
          "base_uri": "https://localhost:8080/"
        },
        "id": "DhXHDIJg9TSX",
        "outputId": "2d742de1-4bb0-4b28-a4a2-ed6801436f03"
      },
      "source": [
        "# by using normalize = True with value_counts, our output is the percentage of each class (written as a decimal)\n",
        "df['DEATH_EVENT'].value_counts(normalize = True)"
      ],
      "execution_count": 25,
      "outputs": [
        {
          "output_type": "execute_result",
          "data": {
            "text/plain": [
              "0    0.67893\n",
              "1    0.32107\n",
              "Name: DEATH_EVENT, dtype: float64"
            ]
          },
          "metadata": {},
          "execution_count": 25
        }
      ]
    },
    {
      "cell_type": "markdown",
      "metadata": {
        "id": "VIqRpEWb9vDj"
      },
      "source": [
        "The data is not well balanced. DEATH_EVENT 0 or alive has a 67.89% preponderance while DEATH_EVENT 1 or dead is 32.10%."
      ]
    },
    {
      "cell_type": "code",
      "metadata": {
        "colab": {
          "base_uri": "https://localhost:8080/"
        },
        "id": "xz6mApjPoyLp",
        "outputId": "1765de14-8188-4e17-a03a-a369efa17a82"
      },
      "source": [
        "dfDead = df[df['DEATH_EVENT'] == 1] #filter to only include Dead data\n",
        "dfDead.shape"
      ],
      "execution_count": 26,
      "outputs": [
        {
          "output_type": "execute_result",
          "data": {
            "text/plain": [
              "(96, 13)"
            ]
          },
          "metadata": {},
          "execution_count": 26
        }
      ]
    },
    {
      "cell_type": "code",
      "metadata": {
        "colab": {
          "base_uri": "https://localhost:8080/"
        },
        "id": "ZwcwZnPEpapq",
        "outputId": "bb2aa0a4-5817-4e1d-ec4b-3c72f550681d"
      },
      "source": [
        "dfAlive = df[df['DEATH_EVENT'] == 0] #filter to only include Alive data\n",
        "dfAlive.shape"
      ],
      "execution_count": 27,
      "outputs": [
        {
          "output_type": "execute_result",
          "data": {
            "text/plain": [
              "(203, 13)"
            ]
          },
          "metadata": {},
          "execution_count": 27
        }
      ]
    },
    {
      "cell_type": "markdown",
      "metadata": {
        "id": "33PW4AumpswK"
      },
      "source": [
        "Describe stats according to Dead/Alive status"
      ]
    },
    {
      "cell_type": "code",
      "metadata": {
        "colab": {
          "base_uri": "https://localhost:8080/",
          "height": 326
        },
        "id": "4eVsUeL64j0f",
        "outputId": "93aa79f2-b788-49c6-8d3e-ab0c0c783ff0"
      },
      "source": [
        "plt.figure(figsize=(15,6))\n",
        "plt.subplot(1,2,1)\n",
        "sns.boxplot(y=dfDead['ejection_fraction'], color=\"red\")\n",
        "plt.subplot(1,2,2)\n",
        "sns.boxplot(y=dfAlive['ejection_fraction'])\n",
        "plt.show()"
      ],
      "execution_count": 28,
      "outputs": [
        {
          "output_type": "display_data",
          "data": {
            "image/png": "[encoded data removed]",
            "text/plain": [
              "<Figure size 1080x432 with 2 Axes>"
            ]
          },
          "metadata": {
            "needs_background": "light"
          }
        }
      ]
    },
    {
      "cell_type": "code",
      "metadata": {
        "colab": {
          "base_uri": "https://localhost:8080/"
        },
        "id": "vgjkmgk16B2j",
        "outputId": "bd8026b4-0fe1-4783-d04a-6a2e0b07198c"
      },
      "source": [
        "dfDead['ejection_fraction'].describe()"
      ],
      "execution_count": 29,
      "outputs": [
        {
          "output_type": "execute_result",
          "data": {
            "text/plain": [
              "count    96.000000\n",
              "mean     33.468750\n",
              "std      12.525303\n",
              "min      14.000000\n",
              "25%      25.000000\n",
              "50%      30.000000\n",
              "75%      38.000000\n",
              "max      70.000000\n",
              "Name: ejection_fraction, dtype: float64"
            ]
          },
          "metadata": {},
          "execution_count": 29
        }
      ]
    },
    {
      "cell_type": "code",
      "metadata": {
        "colab": {
          "base_uri": "https://localhost:8080/"
        },
        "id": "ePmluL-26eBK",
        "outputId": "6c92dfc3-d525-4e0a-8ccf-2cea858ebde9"
      },
      "source": [
        "dfAlive['ejection_fraction'].describe()"
      ],
      "execution_count": 30,
      "outputs": [
        {
          "output_type": "execute_result",
          "data": {
            "text/plain": [
              "count    203.000000\n",
              "mean      40.266010\n",
              "std       10.859963\n",
              "min       17.000000\n",
              "25%       35.000000\n",
              "50%       38.000000\n",
              "75%       45.000000\n",
              "max       80.000000\n",
              "Name: ejection_fraction, dtype: float64"
            ]
          },
          "metadata": {},
          "execution_count": 30
        }
      ]
    },
    {
      "cell_type": "code",
      "metadata": {
        "colab": {
          "base_uri": "https://localhost:8080/",
          "height": 322
        },
        "id": "RLgf_h4Y454d",
        "outputId": "80faa7b3-330e-4b87-f666-9dda3dd5d39c"
      },
      "source": [
        "plt.figure(figsize=(15,6))\n",
        "plt.subplot(1,2,1)\n",
        "sns.boxplot(y=dfDead['creatinine_phosphokinase'], color=\"red\")\n",
        "plt.subplot(1,2,2)\n",
        "sns.boxplot(y=dfAlive['creatinine_phosphokinase'])\n",
        "plt.show()"
      ],
      "execution_count": 31,
      "outputs": [
        {
          "output_type": "display_data",
          "data": {
            "image/png": "[encoded data removed]",
            "text/plain": [
              "<Figure size 1080x432 with 2 Axes>"
            ]
          },
          "metadata": {
            "needs_background": "light"
          }
        }
      ]
    },
    {
      "cell_type": "code",
      "metadata": {
        "colab": {
          "base_uri": "https://localhost:8080/"
        },
        "id": "Jcnndv6t7hDa",
        "outputId": "18c19794-b0f0-4ee3-e6f2-3f234d92b480"
      },
      "source": [
        "dfDead['creatinine_phosphokinase'].describe()"
      ],
      "execution_count": 32,
      "outputs": [
        {
          "output_type": "execute_result",
          "data": {
            "text/plain": [
              "count      96.000000\n",
              "mean      670.197917\n",
              "std      1316.580640\n",
              "min        23.000000\n",
              "25%       128.750000\n",
              "50%       259.000000\n",
              "75%       582.000000\n",
              "max      7861.000000\n",
              "Name: creatinine_phosphokinase, dtype: float64"
            ]
          },
          "metadata": {},
          "execution_count": 32
        }
      ]
    },
    {
      "cell_type": "code",
      "metadata": {
        "colab": {
          "base_uri": "https://localhost:8080/"
        },
        "id": "EUQQGuaV7WNc",
        "outputId": "42d7c008-3c47-4f40-e917-89fc85ca0b6e"
      },
      "source": [
        "dfAlive['creatinine_phosphokinase'].describe()"
      ],
      "execution_count": 33,
      "outputs": [
        {
          "output_type": "execute_result",
          "data": {
            "text/plain": [
              "count     203.000000\n",
              "mean      540.054187\n",
              "std       753.799572\n",
              "min        30.000000\n",
              "25%       109.000000\n",
              "50%       245.000000\n",
              "75%       582.000000\n",
              "max      5209.000000\n",
              "Name: creatinine_phosphokinase, dtype: float64"
            ]
          },
          "metadata": {},
          "execution_count": 33
        }
      ]
    },
    {
      "cell_type": "code",
      "metadata": {
        "colab": {
          "base_uri": "https://localhost:8080/",
          "height": 326
        },
        "id": "1O46aGEo5Zhz",
        "outputId": "965befc2-8a1f-483b-9311-cb172b478277"
      },
      "source": [
        "plt.figure(figsize=(15,6))\n",
        "plt.subplot(1,2,1)\n",
        "sns.boxplot(y=dfDead['age'], color=\"red\")\n",
        "plt.subplot(1,2,2)\n",
        "sns.boxplot(y=dfAlive['age'])\n",
        "plt.show()"
      ],
      "execution_count": 34,
      "outputs": [
        {
          "output_type": "display_data",
          "data": {
            "image/png": "[encoded data removed]",
            "text/plain": [
              "<Figure size 1080x432 with 2 Axes>"
            ]
          },
          "metadata": {
            "needs_background": "light"
          }
        }
      ]
    },
    {
      "cell_type": "code",
      "metadata": {
        "colab": {
          "base_uri": "https://localhost:8080/"
        },
        "id": "f-1ilpa_7wHL",
        "outputId": "f1f695da-dfa0-4df1-86ff-12f9cf404a2b"
      },
      "source": [
        "dfDead['age'].describe()"
      ],
      "execution_count": 35,
      "outputs": [
        {
          "output_type": "execute_result",
          "data": {
            "text/plain": [
              "count    96.000000\n",
              "mean     65.215281\n",
              "std      13.214556\n",
              "min      42.000000\n",
              "25%      55.000000\n",
              "50%      65.000000\n",
              "75%      75.000000\n",
              "max      95.000000\n",
              "Name: age, dtype: float64"
            ]
          },
          "metadata": {},
          "execution_count": 35
        }
      ]
    },
    {
      "cell_type": "code",
      "metadata": {
        "colab": {
          "base_uri": "https://localhost:8080/"
        },
        "id": "-tiLEr1B7xFd",
        "outputId": "afb94948-4c21-4593-fb2e-f7b64e151583"
      },
      "source": [
        "dfAlive['age'].describe()"
      ],
      "execution_count": 36,
      "outputs": [
        {
          "output_type": "execute_result",
          "data": {
            "text/plain": [
              "count    203.000000\n",
              "mean      58.761906\n",
              "std       10.637890\n",
              "min       40.000000\n",
              "25%       50.000000\n",
              "50%       60.000000\n",
              "75%       65.000000\n",
              "max       90.000000\n",
              "Name: age, dtype: float64"
            ]
          },
          "metadata": {},
          "execution_count": 36
        }
      ]
    },
    {
      "cell_type": "code",
      "metadata": {
        "colab": {
          "base_uri": "https://localhost:8080/",
          "height": 325
        },
        "id": "PFtAugqk5pBM",
        "outputId": "d2eba5de-ef20-4d31-9036-7091e3cccb12"
      },
      "source": [
        "plt.figure(figsize=(15,6))\n",
        "plt.subplot(1,2,1)\n",
        "sns.boxplot(y=dfDead['time'], color=\"red\")\n",
        "plt.subplot(1,2,2)\n",
        "sns.boxplot(y=dfAlive['time'])\n",
        "plt.show()"
      ],
      "execution_count": 37,
      "outputs": [
        {
          "output_type": "display_data",
          "data": {
            "image/png": "[encoded data removed]",
            "text/plain": [
              "<Figure size 1080x432 with 2 Axes>"
            ]
          },
          "metadata": {
            "needs_background": "light"
          }
        }
      ]
    },
    {
      "cell_type": "code",
      "metadata": {
        "colab": {
          "base_uri": "https://localhost:8080/"
        },
        "id": "BC2UWf7q76uz",
        "outputId": "d0d4ef10-8419-4313-9a89-593afdfa6822"
      },
      "source": [
        "dfDead['time'].describe()"
      ],
      "execution_count": 38,
      "outputs": [
        {
          "output_type": "execute_result",
          "data": {
            "text/plain": [
              "count     96.000000\n",
              "mean      70.885417\n",
              "std       62.378281\n",
              "min        4.000000\n",
              "25%       25.500000\n",
              "50%       44.500000\n",
              "75%      102.250000\n",
              "max      241.000000\n",
              "Name: time, dtype: float64"
            ]
          },
          "metadata": {},
          "execution_count": 38
        }
      ]
    },
    {
      "cell_type": "code",
      "metadata": {
        "colab": {
          "base_uri": "https://localhost:8080/"
        },
        "id": "lE1ok2VG77yP",
        "outputId": "c64eca7b-09cb-4b93-ad32-353ea5c69936"
      },
      "source": [
        "dfAlive['time'].describe()"
      ],
      "execution_count": 39,
      "outputs": [
        {
          "output_type": "execute_result",
          "data": {
            "text/plain": [
              "count    203.000000\n",
              "mean     158.339901\n",
              "std       67.742872\n",
              "min       12.000000\n",
              "25%       95.000000\n",
              "50%      172.000000\n",
              "75%      213.000000\n",
              "max      285.000000\n",
              "Name: time, dtype: float64"
            ]
          },
          "metadata": {},
          "execution_count": 39
        }
      ]
    },
    {
      "cell_type": "code",
      "metadata": {
        "colab": {
          "base_uri": "https://localhost:8080/",
          "height": 329
        },
        "id": "YJv4_brV8T33",
        "outputId": "5692b370-50bf-4ef5-c015-43f908c6fd51"
      },
      "source": [
        "plt.figure(figsize=(15,6))\n",
        "plt.subplot(1,2,1)\n",
        "sns.boxplot(y=dfDead['serum_creatinine'], color=\"red\")\n",
        "plt.subplot(1,2,2)\n",
        "sns.boxplot(y=dfAlive['serum_creatinine'])\n",
        "plt.show()"
      ],
      "execution_count": 40,
      "outputs": [
        {
          "output_type": "display_data",
          "data": {
            "image/png": "[encoded data removed]",
            "text/plain": [
              "<Figure size 1080x432 with 2 Axes>"
            ]
          },
          "metadata": {
            "needs_background": "light"
          }
        }
      ]
    },
    {
      "cell_type": "code",
      "metadata": {
        "colab": {
          "base_uri": "https://localhost:8080/"
        },
        "id": "EDr2zVEt8eHP",
        "outputId": "7bc345cb-6320-47ee-92f3-ed3efbd8a27e"
      },
      "source": [
        "dfDead['serum_creatinine'].describe()"
      ],
      "execution_count": 41,
      "outputs": [
        {
          "output_type": "execute_result",
          "data": {
            "text/plain": [
              "count    96.000000\n",
              "mean      1.835833\n",
              "std       1.468562\n",
              "min       0.600000\n",
              "25%       1.075000\n",
              "50%       1.300000\n",
              "75%       1.900000\n",
              "max       9.400000\n",
              "Name: serum_creatinine, dtype: float64"
            ]
          },
          "metadata": {},
          "execution_count": 41
        }
      ]
    },
    {
      "cell_type": "code",
      "metadata": {
        "colab": {
          "base_uri": "https://localhost:8080/"
        },
        "id": "6fgDw0fY8fB4",
        "outputId": "75fd7eec-9865-4a5f-972b-12a661ef2833"
      },
      "source": [
        "dfAlive['serum_creatinine'].describe()"
      ],
      "execution_count": 42,
      "outputs": [
        {
          "output_type": "execute_result",
          "data": {
            "text/plain": [
              "count    203.000000\n",
              "mean       1.184877\n",
              "std        0.654083\n",
              "min        0.500000\n",
              "25%        0.900000\n",
              "50%        1.000000\n",
              "75%        1.200000\n",
              "max        6.100000\n",
              "Name: serum_creatinine, dtype: float64"
            ]
          },
          "metadata": {},
          "execution_count": 42
        }
      ]
    },
    {
      "cell_type": "code",
      "metadata": {
        "colab": {
          "base_uri": "https://localhost:8080/",
          "height": 324
        },
        "id": "RMR0uu_X8oDX",
        "outputId": "f3848167-9a08-4ecf-81f9-423e313dd0f9"
      },
      "source": [
        "plt.figure(figsize=(15,6))\n",
        "plt.subplot(1,2,1)\n",
        "sns.boxplot(y=dfDead['serum_sodium'], color=\"red\")\n",
        "plt.subplot(1,2,2)\n",
        "sns.boxplot(y=dfAlive['serum_sodium'])\n",
        "plt.show()"
      ],
      "execution_count": 43,
      "outputs": [
        {
          "output_type": "display_data",
          "data": {
            "image/png": "[encoded data removed]",
            "text/plain": [
              "<Figure size 1080x432 with 2 Axes>"
            ]
          },
          "metadata": {
            "needs_background": "light"
          }
        }
      ]
    },
    {
      "cell_type": "code",
      "metadata": {
        "colab": {
          "base_uri": "https://localhost:8080/"
        },
        "id": "B_7z8fXZ8upn",
        "outputId": "9b07187c-454c-47d8-9396-ed7eb3abb836"
      },
      "source": [
        "dfDead['serum_sodium'].describe()"
      ],
      "execution_count": 44,
      "outputs": [
        {
          "output_type": "execute_result",
          "data": {
            "text/plain": [
              "count     96.000000\n",
              "mean     135.375000\n",
              "std        5.001579\n",
              "min      116.000000\n",
              "25%      133.000000\n",
              "50%      135.500000\n",
              "75%      138.250000\n",
              "max      146.000000\n",
              "Name: serum_sodium, dtype: float64"
            ]
          },
          "metadata": {},
          "execution_count": 44
        }
      ]
    },
    {
      "cell_type": "code",
      "metadata": {
        "colab": {
          "base_uri": "https://localhost:8080/"
        },
        "id": "W_CxSWYD80ZW",
        "outputId": "c9d4c6a0-4146-40c4-ca04-8e065f89be81"
      },
      "source": [
        "dfAlive['serum_sodium'].describe()"
      ],
      "execution_count": 45,
      "outputs": [
        {
          "output_type": "execute_result",
          "data": {
            "text/plain": [
              "count    203.000000\n",
              "mean     137.216749\n",
              "std        3.982923\n",
              "min      113.000000\n",
              "25%      135.500000\n",
              "50%      137.000000\n",
              "75%      140.000000\n",
              "max      148.000000\n",
              "Name: serum_sodium, dtype: float64"
            ]
          },
          "metadata": {},
          "execution_count": 45
        }
      ]
    },
    {
      "cell_type": "markdown",
      "metadata": {
        "id": "LT0AElsoDhYK"
      },
      "source": [
        "Correlation"
      ]
    },
    {
      "cell_type": "code",
      "metadata": {
        "colab": {
          "base_uri": "https://localhost:8080/",
          "height": 663
        },
        "id": "pn1lnLOBDkGf",
        "outputId": "8cb44ba0-15f6-4a68-8905-ffd2dbeb02f9"
      },
      "source": [
        "# correlation between all features\n",
        "corrMat = df.corr()\n",
        "fig, ax = plt.subplots(figsize = (10,10))\n",
        "cmap = sns.diverging_palette(1000, 7000, as_cmap = True)\n",
        "mask = np.triu(np.ones_like(corrMat, dtype = bool))\n",
        "sns.heatmap(corrMat, square = True, annot = True, linewidths = 1, cmap = cmap, mask = mask);"
      ],
      "execution_count": 46,
      "outputs": [
        {
          "output_type": "display_data",
          "data": {
            "image/png": "[encoded data removed]",
            "text/plain": [
              "<Figure size 720x720 with 2 Axes>"
            ]
          },
          "metadata": {
            "needs_background": "light"
          }
        }
      ]
    },
    {
      "cell_type": "markdown",
      "metadata": {
        "id": "46s7IuMGHz_R"
      },
      "source": [
        "Drop Time column"
      ]
    },
    {
      "cell_type": "code",
      "metadata": {
        "id": "inDoa3dbH2I_"
      },
      "source": [
        "df1 = df.drop(columns='time')"
      ],
      "execution_count": 47,
      "outputs": []
    },
    {
      "cell_type": "code",
      "metadata": {
        "colab": {
          "base_uri": "https://localhost:8080/",
          "height": 69
        },
        "id": "nf6dxrPfIEx-",
        "outputId": "5b82c6a3-cb6a-4acb-cf76-58d34402314e"
      },
      "source": [
        "df1.head(0)"
      ],
      "execution_count": 48,
      "outputs": [
        {
          "output_type": "execute_result",
          "data": {
            "text/html": [
              "<div>\n",
              "<style scoped>\n",
              "    .dataframe tbody tr th:only-of-type {\n",
              "        vertical-align: middle;\n",
              "    }\n",
              "\n",
              "    .dataframe tbody tr th {\n",
              "        vertical-align: top;\n",
              "    }\n",
              "\n",
              "    .dataframe thead th {\n",
              "        text-align: right;\n",
              "    }\n",
              "</style>\n",
              "<table border=\"1\" class=\"dataframe\">\n",
              "  <thead>\n",
              "    <tr style=\"text-align: right;\">\n",
              "      <th></th>\n",
              "      <th>age</th>\n",
              "      <th>anaemia</th>\n",
              "      <th>creatinine_phosphokinase</th>\n",
              "      <th>diabetes</th>\n",
              "      <th>ejection_fraction</th>\n",
              "      <th>high_blood_pressure</th>\n",
              "      <th>platelets</th>\n",
              "      <th>serum_creatinine</th>\n",
              "      <th>serum_sodium</th>\n",
              "      <th>sex</th>\n",
              "      <th>smoking</th>\n",
              "      <th>DEATH_EVENT</th>\n",
              "    </tr>\n",
              "  </thead>\n",
              "  <tbody>\n",
              "  </tbody>\n",
              "</table>\n",
              "</div>"
            ],
            "text/plain": [
              "Empty DataFrame\n",
              "Columns: [age, anaemia, creatinine_phosphokinase, diabetes, ejection_fraction, high_blood_pressure, platelets, serum_creatinine, serum_sodium, sex, smoking, DEATH_EVENT]\n",
              "Index: []"
            ]
          },
          "metadata": {},
          "execution_count": 48
        }
      ]
    },
    {
      "cell_type": "markdown",
      "metadata": {
        "id": "YF2UBVRLIYfv"
      },
      "source": [
        "Modeling"
      ]
    },
    {
      "cell_type": "markdown",
      "metadata": {
        "id": "otQGG2OxIZ1A"
      },
      "source": [
        "Assign target and Features"
      ]
    },
    {
      "cell_type": "code",
      "metadata": {
        "id": "plTPzEFsIiKn"
      },
      "source": [
        "#assign the target (y) and features (X)\n",
        "y = df1['DEATH_EVENT']\n",
        "X = df1.drop(columns = 'DEATH_EVENT')"
      ],
      "execution_count": 49,
      "outputs": []
    },
    {
      "cell_type": "markdown",
      "metadata": {
        "id": "e3d-6rX3m-cN"
      },
      "source": [
        "Run a baseline"
      ]
    },
    {
      "cell_type": "code",
      "metadata": {
        "colab": {
          "base_uri": "https://localhost:8080/"
        },
        "id": "ICUmjyHEnAiz",
        "outputId": "02b2f4c4-a152-4ee3-fb59-9a5426af68dc"
      },
      "source": [
        "#Establish a simple baseline \"model\". \n",
        "#What if all predictions were just the mean of the target? \n",
        "# for a binary classification pbr we need \n",
        "#to divide most common class over the total for the target\n",
        "baseline = 209/299\n",
        "print ('Accuracy of baseline is:', \"{:.2f}%\".format(100* baseline))"
      ],
      "execution_count": 50,
      "outputs": [
        {
          "output_type": "stream",
          "name": "stdout",
          "text": [
            "Accuracy of baseline is: 69.90%\n"
          ]
        }
      ]
    },
    {
      "cell_type": "markdown",
      "metadata": {
        "id": "G6xMOhtjIx6P"
      },
      "source": [
        "Train Test Split"
      ]
    },
    {
      "cell_type": "code",
      "metadata": {
        "id": "9XyhBdrOI3su"
      },
      "source": [
        "#Train Test Split the data\n",
        "from sklearn.model_selection import train_test_split\n",
        "X_train, X_test, y_train, y_test = train_test_split(X, y,test_size=0.25, random_state = 42)"
      ],
      "execution_count": 51,
      "outputs": []
    },
    {
      "cell_type": "markdown",
      "metadata": {
        "id": "nKAmGS3DI62l"
      },
      "source": [
        "Here we are predicting a binary target coded 0 or 1. It is a binary classification problem for which we will use classifier methods. "
      ]
    },
    {
      "cell_type": "markdown",
      "metadata": {
        "id": "uWVhlvuOL3OK"
      },
      "source": [
        "List our table for accuracy for different methods"
      ]
    },
    {
      "cell_type": "code",
      "metadata": {
        "id": "pkk2zHjcL8cJ"
      },
      "source": [
        "accuracy_list = []"
      ],
      "execution_count": 52,
      "outputs": []
    },
    {
      "cell_type": "code",
      "metadata": {
        "id": "-ODjG5k3t3ta"
      },
      "source": [
        "accuracy_list.append(100*baseline)"
      ],
      "execution_count": 53,
      "outputs": []
    },
    {
      "cell_type": "markdown",
      "metadata": {
        "id": "c_F-T_cJX9_I"
      },
      "source": [
        "Remember to fit on the training set and transform both training and test sets"
      ]
    },
    {
      "cell_type": "code",
      "metadata": {
        "id": "8DQMiMfRYLhT"
      },
      "source": [
        "from sklearn.preprocessing import StandardScaler\n",
        "scaler = StandardScaler()\n",
        "# Fit on training set only\n",
        "scaler.fit(X_train)\n",
        "# Apply transform to both the training set and the test set\n",
        "X_train = scaler.transform(X_train)\n",
        "X_test = scaler.transform(X_test)"
      ],
      "execution_count": 54,
      "outputs": []
    },
    {
      "cell_type": "markdown",
      "metadata": {
        "id": "ou0agYPxUmn-"
      },
      "source": [
        "KNN"
      ]
    },
    {
      "cell_type": "code",
      "metadata": {
        "colab": {
          "base_uri": "https://localhost:8080/"
        },
        "id": "ma5Da1JGU2qA",
        "outputId": "ceddb7c8-804c-48b4-d99c-3ce8deb3579b"
      },
      "source": [
        "#step 1 import the model you want to use\n",
        "from sklearn.neighbors import KNeighborsClassifier\n",
        "#step 2 make an instance of the Model\n",
        "knn = KNeighborsClassifier()\n",
        "# Looking at some hyperparameters that seem tunable\n",
        "print(knn)\n",
        "#Model is learning the relationship between x and y\n",
        "knn.fit(X_train, y_train)\n",
        "#step 4 predict the values of same data it was fit on\n",
        "predictions = knn.predict(X_train)"
      ],
      "execution_count": 55,
      "outputs": [
        {
          "output_type": "stream",
          "name": "stdout",
          "text": [
            "KNeighborsClassifier(algorithm='auto', leaf_size=30, metric='minkowski',\n",
            "                     metric_params=None, n_jobs=None, n_neighbors=5, p=2,\n",
            "                     weights='uniform')\n"
          ]
        }
      ]
    },
    {
      "cell_type": "code",
      "metadata": {
        "colab": {
          "base_uri": "https://localhost:8080/"
        },
        "id": "zig7a5jEWS4r",
        "outputId": "f2290c0a-7cb3-40c8-adef-ec8e69615adf"
      },
      "source": [
        "predictions"
      ],
      "execution_count": 56,
      "outputs": [
        {
          "output_type": "execute_result",
          "data": {
            "text/plain": [
              "array([0, 0, 0, 0, 0, 0, 0, 0, 0, 0, 0, 0, 1, 1, 0, 0, 0, 0, 0, 0, 0, 0,\n",
              "       0, 0, 0, 0, 1, 0, 1, 0, 0, 0, 0, 0, 0, 0, 0, 0, 0, 0, 0, 0, 0, 0,\n",
              "       1, 1, 0, 0, 1, 0, 0, 0, 0, 0, 1, 0, 0, 0, 1, 0, 0, 0, 1, 0, 0, 0,\n",
              "       0, 0, 0, 0, 1, 0, 0, 0, 0, 0, 0, 0, 0, 0, 1, 0, 0, 0, 0, 0, 1, 1,\n",
              "       0, 0, 0, 0, 0, 0, 0, 0, 0, 1, 0, 0, 0, 0, 0, 0, 1, 0, 0, 1, 0, 0,\n",
              "       0, 0, 1, 0, 0, 0, 0, 0, 1, 0, 1, 0, 0, 1, 0, 0, 0, 0, 0, 0, 0, 0,\n",
              "       0, 1, 1, 0, 0, 0, 0, 0, 0, 0, 1, 0, 0, 0, 0, 0, 0, 0, 0, 0, 0, 0,\n",
              "       0, 0, 0, 1, 0, 0, 0, 0, 0, 0, 0, 0, 0, 1, 0, 1, 0, 0, 0, 0, 0, 0,\n",
              "       0, 1, 0, 0, 0, 0, 0, 0, 0, 1, 0, 0, 0, 0, 0, 0, 0, 0, 0, 0, 0, 0,\n",
              "       0, 0, 0, 1, 1, 0, 0, 0, 0, 0, 0, 0, 0, 0, 0, 0, 0, 0, 0, 0, 1, 0,\n",
              "       0, 0, 0, 0])"
            ]
          },
          "metadata": {},
          "execution_count": 56
        }
      ]
    },
    {
      "cell_type": "code",
      "metadata": {
        "colab": {
          "base_uri": "https://localhost:8080/"
        },
        "id": "9CW_56XMWYdt",
        "outputId": "de101661-7b6f-46c8-ec6f-a2af381f04cd"
      },
      "source": [
        "# calculate classification accuracy\n",
        "scoreKNN = knn.score(X_train, y_train)\n",
        "print ('Accuracy of KNN default is:', \"{:.2f}%\".format(100* scoreKNN))"
      ],
      "execution_count": 57,
      "outputs": [
        {
          "output_type": "stream",
          "name": "stdout",
          "text": [
            "Accuracy of KNN default is: 74.55%\n"
          ]
        }
      ]
    },
    {
      "cell_type": "code",
      "metadata": {
        "id": "A2qaadSvafHU"
      },
      "source": [
        "accuracy_list.append(100*scoreKNN)"
      ],
      "execution_count": 58,
      "outputs": []
    },
    {
      "cell_type": "code",
      "metadata": {
        "colab": {
          "base_uri": "https://localhost:8080/",
          "height": 279
        },
        "id": "TFSx8Cl_WrFZ",
        "outputId": "11d1e242-f08c-4a0f-8946-1dd00ceafac5"
      },
      "source": [
        "#confusion matrix\n",
        "from sklearn.metrics import plot_confusion_matrix\n",
        "plot_confusion_matrix(knn, X_test, y_test, cmap = 'Blues', values_format = 'd');"
      ],
      "execution_count": 59,
      "outputs": [
        {
          "output_type": "display_data",
          "data": {
            "image/png": "[encoded data removed]",
            "text/plain": [
              "<Figure size 432x288 with 2 Axes>"
            ]
          },
          "metadata": {
            "needs_background": "light"
          }
        }
      ]
    },
    {
      "cell_type": "code",
      "metadata": {
        "colab": {
          "base_uri": "https://localhost:8080/"
        },
        "id": "ts0XWaTvWvRY",
        "outputId": "1ff96027-0b8d-41ec-d736-270799aedd97"
      },
      "source": [
        "from sklearn.model_selection import GridSearchCV\n",
        "# define a dictionary of the parameters you want to tune and the values you want to try out\n",
        "params = {'n_neighbors': [5, 10, 25, 50, 55, 75]}\n",
        "# instantiate and fit gridsearch\n",
        "gs = GridSearchCV(KNeighborsClassifier(), param_grid = params)\n",
        "gs.fit(X_train, y_train)"
      ],
      "execution_count": 60,
      "outputs": [
        {
          "output_type": "execute_result",
          "data": {
            "text/plain": [
              "GridSearchCV(cv=None, error_score=nan,\n",
              "             estimator=KNeighborsClassifier(algorithm='auto', leaf_size=30,\n",
              "                                            metric='minkowski',\n",
              "                                            metric_params=None, n_jobs=None,\n",
              "                                            n_neighbors=5, p=2,\n",
              "                                            weights='uniform'),\n",
              "             iid='deprecated', n_jobs=None,\n",
              "             param_grid={'n_neighbors': [5, 10, 25, 50, 55, 75]},\n",
              "             pre_dispatch='2*n_jobs', refit=True, return_train_score=False,\n",
              "             scoring=None, verbose=0)"
            ]
          },
          "metadata": {},
          "execution_count": 60
        }
      ]
    },
    {
      "cell_type": "code",
      "metadata": {
        "colab": {
          "base_uri": "https://localhost:8080/"
        },
        "id": "ZTVaC4pEWzkM",
        "outputId": "b4ea651f-e8ce-474a-922c-ea4e0297e5ed"
      },
      "source": [
        "gs.best_params_"
      ],
      "execution_count": 61,
      "outputs": [
        {
          "output_type": "execute_result",
          "data": {
            "text/plain": [
              "{'n_neighbors': 10}"
            ]
          },
          "metadata": {},
          "execution_count": 61
        }
      ]
    },
    {
      "cell_type": "markdown",
      "metadata": {
        "id": "6J75M-TQW3Gd"
      },
      "source": [
        "\n",
        "Optimize with n_neighbors=5"
      ]
    },
    {
      "cell_type": "code",
      "metadata": {
        "colab": {
          "base_uri": "https://localhost:8080/"
        },
        "id": "RMHf-w0nW8Eg",
        "outputId": "707b5a66-9f4c-4c37-f870-ded68b280c29"
      },
      "source": [
        "#step 2 make an instance of the Model\n",
        "knn_10 = KNeighborsClassifier(n_neighbors=10)\n",
        "#step 3 Training the model on the data, \n",
        "knn_10.fit(X_train, y_train)\n",
        "#step 4 predict the values of same data it was fit on\n",
        "predictions_10 =knn_10.predict(X_train)\n",
        "predictions_10"
      ],
      "execution_count": 68,
      "outputs": [
        {
          "output_type": "execute_result",
          "data": {
            "text/plain": [
              "array([0, 0, 0, 0, 0, 0, 0, 0, 0, 0, 0, 0, 0, 0, 0, 0, 0, 0, 0, 0, 0, 0,\n",
              "       0, 0, 0, 0, 1, 0, 0, 0, 0, 0, 0, 0, 0, 0, 0, 0, 0, 0, 0, 0, 0, 0,\n",
              "       1, 0, 0, 0, 0, 0, 0, 0, 0, 0, 1, 0, 0, 0, 0, 0, 0, 0, 1, 0, 0, 0,\n",
              "       0, 0, 0, 0, 1, 0, 0, 0, 0, 0, 0, 0, 0, 0, 0, 0, 0, 0, 0, 0, 0, 1,\n",
              "       0, 0, 0, 0, 0, 0, 0, 0, 0, 0, 0, 0, 0, 0, 0, 0, 0, 0, 0, 0, 0, 0,\n",
              "       0, 0, 0, 0, 0, 0, 0, 0, 0, 0, 0, 0, 0, 0, 0, 0, 0, 0, 0, 0, 0, 0,\n",
              "       0, 0, 0, 0, 0, 0, 0, 0, 0, 0, 1, 0, 0, 0, 0, 0, 0, 0, 0, 0, 0, 0,\n",
              "       0, 0, 0, 0, 0, 0, 0, 0, 0, 0, 0, 0, 0, 1, 0, 0, 0, 0, 0, 0, 0, 0,\n",
              "       0, 1, 0, 0, 0, 0, 0, 0, 0, 1, 0, 0, 0, 0, 0, 0, 0, 0, 0, 0, 0, 0,\n",
              "       0, 0, 0, 0, 1, 0, 0, 0, 0, 0, 0, 0, 0, 0, 0, 0, 0, 0, 0, 0, 0, 0,\n",
              "       0, 0, 0, 0])"
            ]
          },
          "metadata": {},
          "execution_count": 68
        }
      ]
    },
    {
      "cell_type": "code",
      "metadata": {
        "colab": {
          "base_uri": "https://localhost:8080/"
        },
        "id": "Gkpq1kOlXOpH",
        "outputId": "82fc8d8e-d6bf-497f-8e48-56f91f8dba83"
      },
      "source": [
        "# calculate classification accuracy\n",
        "scoreKNN_10 = knn_10.score(X_train, y_train)\n",
        "print('Accuracy of KNN n_neighbor =10 is:', \"{:.2f}%\".format(100* scoreKNN_10))"
      ],
      "execution_count": 70,
      "outputs": [
        {
          "output_type": "stream",
          "name": "stdout",
          "text": [
            "Accuracy of KNN n_neighbor =10 is: 74.11%\n"
          ]
        }
      ]
    },
    {
      "cell_type": "code",
      "metadata": {
        "id": "ePtO5Y1wbaDc"
      },
      "source": [
        "accuracy_list.append(100*scoreKNN_10)"
      ],
      "execution_count": 71,
      "outputs": []
    },
    {
      "cell_type": "code",
      "metadata": {
        "colab": {
          "base_uri": "https://localhost:8080/",
          "height": 279
        },
        "id": "JIk_c14EXa-c",
        "outputId": "e00e4ca7-5622-4c91-c8cc-bde7061c594c"
      },
      "source": [
        "#confusion matrix\n",
        "from sklearn.metrics import plot_confusion_matrix\n",
        "plot_confusion_matrix(knn_10, X_test, y_test, cmap = 'Blues', values_format = 'd');"
      ],
      "execution_count": 72,
      "outputs": [
        {
          "output_type": "display_data",
          "data": {
            "image/png": "[encoded data removed]",
            "text/plain": [
              "<Figure size 432x288 with 2 Axes>"
            ]
          },
          "metadata": {
            "needs_background": "light"
          }
        }
      ]
    },
    {
      "cell_type": "code",
      "metadata": {
        "colab": {
          "base_uri": "https://localhost:8080/",
          "height": 295
        },
        "id": "Wq6R6eq9cHhr",
        "outputId": "9cc7c7ba-2a96-466e-dcb2-de73850bb33d"
      },
      "source": [
        "#Compute ROC curve and ROC area for predictions on train set\n",
        "from sklearn.metrics import roc_curve, auc\n",
        "fpr, tpr, _ = roc_curve(y_train, predictions_10)\n",
        "roc_auc = auc(fpr, tpr)\n",
        "\n",
        "#Plot\n",
        "plt.figure()\n",
        "lw = 2\n",
        "plt.plot(fpr, tpr, color='black',\n",
        "         lw=lw, label='ROC curve (area = %0.2f)' % roc_auc)\n",
        "plt.plot([0, 1], [0, 1], color='green', lw=lw, linestyle='--')\n",
        "plt.xlim([0.0, 1.0])\n",
        "plt.ylim([0.0, 1.05])\n",
        "plt.xlabel('False Positive Rate')\n",
        "plt.ylabel('True Positive Rate')\n",
        "plt.title('Receiver operating characteristic example')\n",
        "plt.legend(loc=\"lower right\")\n",
        "plt.show()"
      ],
      "execution_count": 74,
      "outputs": [
        {
          "output_type": "display_data",
          "data": {
            "image/png": "[encoded data removed]",
            "text/plain": [
              "<Figure size 432x288 with 1 Axes>"
            ]
          },
          "metadata": {
            "needs_background": "light"
          }
        }
      ]
    },
    {
      "cell_type": "markdown",
      "metadata": {
        "id": "H5J8i_NVluiC"
      },
      "source": [
        "A Receiver Operator Characteristic (ROC) curve is a graphical plot used to show the diagnostic ability of binary classifiers.\n",
        "\n",
        "It shows the trade-off between sensitivity (or TPR) and specificity (1 – FPR).  As a baseline, a random classifier is expected to give points lying along the diagonal (FPR = TPR). Here after a gridsearch and optimization the ROC curve remains close to the 45-degree diagonal of the ROC space. \n",
        "\n"
      ]
    },
    {
      "cell_type": "markdown",
      "metadata": {
        "id": "WUx-sCdMm6d6"
      },
      "source": [
        "Our baseline returned a value of 0.69 while our optimized KNN returned an accuracy of 77.65%. This method is better than the baseline. The optimized model according to the confusion matrix predicts better true positives and true negatives."
      ]
    },
    {
      "cell_type": "markdown",
      "metadata": {
        "id": "Th2MMinRYu7G"
      },
      "source": [
        "Random Forest Classifier"
      ]
    },
    {
      "cell_type": "code",
      "metadata": {
        "colab": {
          "base_uri": "https://localhost:8080/"
        },
        "id": "skHLyWMOoZbc",
        "outputId": "21f0f991-e447-43ae-b889-65c652ddf96b"
      },
      "source": [
        "# step 1 import random forest Regressor\n",
        "from sklearn.ensemble import RandomForestClassifier\n",
        "# Step 2: Make an instance of the Model\n",
        "rf_class = RandomForestClassifier(random_state = 42)\n",
        "# Step 3: Training the model on the data, storing the information learned from the data\n",
        "# Model is learning the relationship between X and y\n",
        "rf_class.fit(X_train, y_train)\n",
        "# Step 4: Predict the values for y \n",
        "#(remember that this step just allows you to see the actual predictions)\n",
        "#(but is not necessary for evaluating or tuning your model)\n",
        "rf_class.predict(X_test)\n",
        "# Step 5: Evaluate your model performance\n",
        "rf_class_train_score = rf_class.score(X_train, y_train)\n",
        "rf_class_test_score = rf_class.score(X_test, y_test)\n",
        "print(rf_class_train_score)\n",
        "print(rf_class_test_score)"
      ],
      "execution_count": 81,
      "outputs": [
        {
          "output_type": "stream",
          "name": "stdout",
          "text": [
            "1.0\n",
            "0.6666666666666666\n"
          ]
        }
      ]
    },
    {
      "cell_type": "markdown",
      "metadata": {
        "id": "9VPoDXJPouVx"
      },
      "source": [
        "Our output shows that our training score is 1 and test score is 0.67. The metric used in the classifier is accuracy. Our test score shows that we may mislabel 33% as belonging to the wrong class. The default Random Forest is performing worse than the baseline. Let's see if we can improve on its accuracy."
      ]
    },
    {
      "cell_type": "code",
      "metadata": {
        "id": "eAZwvAvxo8YL"
      },
      "source": [
        "# List of values to try for max_depth:\n",
        "max_depth_range = list(range(1, 50)) # will try every value between 2 and 50\n",
        "# List to store the score for each value of max_depth:\n",
        "r2 = []\n",
        "for depth in max_depth_range:\n",
        "    rf_class = RandomForestClassifier(max_depth = depth, \n",
        "                             random_state = 42)\n",
        "    rf_class.fit(X_train, y_train)\n",
        "    score = rf_class.score(X_test, y_test)\n",
        "    r2.append(score)"
      ],
      "execution_count": 83,
      "outputs": []
    },
    {
      "cell_type": "code",
      "metadata": {
        "colab": {
          "base_uri": "https://localhost:8080/",
          "height": 280
        },
        "id": "PrzqtfF23Ejr",
        "outputId": "91bd164c-967f-463d-efe1-16f0047c7197"
      },
      "source": [
        "#To help us see the results of trying various tree depths, \n",
        "#the following code creates a visualization of R2 vs max_depth\n",
        "# Visualize which max_depth leads to the highest accuracy score\n",
        "import matplotlib.pyplot as plt\n",
        "plt.plot(max_depth_range, r2)\n",
        "plt.xlabel('max_depth')\n",
        "plt.grid(color='r', linestyle='--', linewidth=2)\n",
        "plt.ylabel('Accuracy');"
      ],
      "execution_count": 86,
      "outputs": [
        {
          "output_type": "display_data",
          "data": {
            "image/png": "[encoded data removed]",
            "text/plain": [
              "<Figure size 432x288 with 1 Axes>"
            ]
          },
          "metadata": {
            "needs_background": "light"
          }
        }
      ]
    },
    {
      "cell_type": "code",
      "metadata": {
        "colab": {
          "base_uri": "https://localhost:8080/"
        },
        "id": "HufQDWwM356k",
        "outputId": "04c31774-3549-4dc2-97c5-9811af1fc710"
      },
      "source": [
        "# Let's run the model with our optimized value for max_depth , 11\n",
        "rf_class_11 = RandomForestClassifier(max_depth = 11, random_state = 42)\n",
        "rf_class_11.fit(X_train, y_train)\n",
        "train_11_score = rf_class_11.score(X_train, y_train)\n",
        "test_11_score = rf_class_11.score(X_test, y_test)\n",
        "print(train_11_score)\n",
        "print(test_11_score)"
      ],
      "execution_count": 93,
      "outputs": [
        {
          "output_type": "stream",
          "name": "stdout",
          "text": [
            "1.0\n",
            "0.68\n"
          ]
        }
      ]
    },
    {
      "cell_type": "markdown",
      "metadata": {
        "id": "tqXJMLHg4ozJ"
      },
      "source": [
        "With the Random Forest Tree classifier the best accuracy score is obtained with a depth of 11."
      ]
    },
    {
      "cell_type": "code",
      "metadata": {
        "colab": {
          "base_uri": "https://localhost:8080/",
          "height": 394
        },
        "id": "XQPZ8hLT44EY",
        "outputId": "03f9772b-0bdb-4d3d-e03b-de982cfb40eb"
      },
      "source": [
        "# model-random forest classifier feature importance\n",
        "data = {'Feature': X.columns, 'Importance': rf_class_11.feature_importances_}\n",
        "feature_importances = pd.DataFrame(data)\n",
        "feature_importances"
      ],
      "execution_count": 95,
      "outputs": [
        {
          "output_type": "execute_result",
          "data": {
            "text/html": [
              "<div>\n",
              "<style scoped>\n",
              "    .dataframe tbody tr th:only-of-type {\n",
              "        vertical-align: middle;\n",
              "    }\n",
              "\n",
              "    .dataframe tbody tr th {\n",
              "        vertical-align: top;\n",
              "    }\n",
              "\n",
              "    .dataframe thead th {\n",
              "        text-align: right;\n",
              "    }\n",
              "</style>\n",
              "<table border=\"1\" class=\"dataframe\">\n",
              "  <thead>\n",
              "    <tr style=\"text-align: right;\">\n",
              "      <th></th>\n",
              "      <th>Feature</th>\n",
              "      <th>Importance</th>\n",
              "    </tr>\n",
              "  </thead>\n",
              "  <tbody>\n",
              "    <tr>\n",
              "      <th>0</th>\n",
              "      <td>age</td>\n",
              "      <td>0.150865</td>\n",
              "    </tr>\n",
              "    <tr>\n",
              "      <th>1</th>\n",
              "      <td>anaemia</td>\n",
              "      <td>0.019243</td>\n",
              "    </tr>\n",
              "    <tr>\n",
              "      <th>2</th>\n",
              "      <td>creatinine_phosphokinase</td>\n",
              "      <td>0.125589</td>\n",
              "    </tr>\n",
              "    <tr>\n",
              "      <th>3</th>\n",
              "      <td>diabetes</td>\n",
              "      <td>0.021513</td>\n",
              "    </tr>\n",
              "    <tr>\n",
              "      <th>4</th>\n",
              "      <td>ejection_fraction</td>\n",
              "      <td>0.166131</td>\n",
              "    </tr>\n",
              "    <tr>\n",
              "      <th>5</th>\n",
              "      <td>high_blood_pressure</td>\n",
              "      <td>0.018452</td>\n",
              "    </tr>\n",
              "    <tr>\n",
              "      <th>6</th>\n",
              "      <td>platelets</td>\n",
              "      <td>0.115297</td>\n",
              "    </tr>\n",
              "    <tr>\n",
              "      <th>7</th>\n",
              "      <td>serum_creatinine</td>\n",
              "      <td>0.237321</td>\n",
              "    </tr>\n",
              "    <tr>\n",
              "      <th>8</th>\n",
              "      <td>serum_sodium</td>\n",
              "      <td>0.105245</td>\n",
              "    </tr>\n",
              "    <tr>\n",
              "      <th>9</th>\n",
              "      <td>sex</td>\n",
              "      <td>0.021577</td>\n",
              "    </tr>\n",
              "    <tr>\n",
              "      <th>10</th>\n",
              "      <td>smoking</td>\n",
              "      <td>0.018765</td>\n",
              "    </tr>\n",
              "  </tbody>\n",
              "</table>\n",
              "</div>"
            ],
            "text/plain": [
              "                     Feature  Importance\n",
              "0                        age    0.150865\n",
              "1                    anaemia    0.019243\n",
              "2   creatinine_phosphokinase    0.125589\n",
              "3                   diabetes    0.021513\n",
              "4          ejection_fraction    0.166131\n",
              "5        high_blood_pressure    0.018452\n",
              "6                  platelets    0.115297\n",
              "7           serum_creatinine    0.237321\n",
              "8               serum_sodium    0.105245\n",
              "9                        sex    0.021577\n",
              "10                   smoking    0.018765"
            ]
          },
          "metadata": {},
          "execution_count": 95
        }
      ]
    },
    {
      "cell_type": "code",
      "metadata": {
        "colab": {
          "base_uri": "https://localhost:8080/",
          "height": 697
        },
        "id": "-q3wuEjf5CJX",
        "outputId": "30bd90c0-e842-4e80-eb93-36b0924d0216"
      },
      "source": [
        "feature_importances.sort_values(by = 'Importance', inplace = True)\n",
        "plt.figure(figsize = (12, 12))\n",
        "plt.barh(feature_importances['Feature'], feature_importances['Importance'])\n",
        "plt.xlabel('r')\n",
        "plt.ylabel('Feature')\n",
        "plt.title('Feature Importance')\n",
        "plt.show();"
      ],
      "execution_count": 96,
      "outputs": [
        {
          "output_type": "display_data",
          "data": {
            "image/png": "[encoded data removed]",
            "text/plain": [
              "<Figure size 864x864 with 1 Axes>"
            ]
          },
          "metadata": {
            "needs_background": "light"
          }
        }
      ]
    },
    {
      "cell_type": "markdown",
      "metadata": {
        "id": "XM3Etojo76Tr"
      },
      "source": [
        "The most important feature to predict the class DEATH_EVENT are serum creatinine, ejection fration which are negatively correlated with a heatmap which means they are linked with outcome 1 = death."
      ]
    },
    {
      "cell_type": "markdown",
      "metadata": {
        "id": "_FZqT4-t8lwz"
      },
      "source": [
        "Conclusion"
      ]
    },
    {
      "cell_type": "markdown",
      "metadata": {
        "id": "dScLzrOt8pzN"
      },
      "source": [
        "Our reasonning to decide which algorithm to use needs to take under consideration a number of factors. For exemple:\n",
        "\n",
        "1- What is the type of problem we are trying to solve?\n",
        "\n",
        "Here it is a binary classification problem since we want to predict a class 0 or 1 for DEATH_EVENT to better assist patient prognosis and treatment after heart failure. We also want to reveal predictors to complement Drs expertise. We then opt to use a classifier ML method.\n",
        "\n",
        "2- Few factors to consider for choice of classifier ML method?\n",
        "\n",
        "Size of our dataset, here we have a dataset constituted of 299 entries and 13 columns; But the dataset will increase as more patients will be recruited under medical care.\n",
        "\n",
        "In this exercise we chose to perform Random Forest Classifier and KNN Classifier and their score is a measure of accuracy to predict class accurately. We also performed some confusion matrix to complement with measures of sensitivity, specificity and precision our KNN models. We also performed a ROC curve.\n",
        "\n",
        "From forum discussion at https://datascience.stackexchange.com/questions/9228/decision-tree-vs-knn\n",
        "\n",
        "Random Forest Classifier is an \"Eager Learner\": when split/train/test, it first builds a classification model on the training dataset before being able to actually classify a hiden observation from the test dataset. This learned model is now \"eager\" (read hungry) to classify the unseen datapoints.\n",
        "\n",
        "The KNN Classifier is a \"Lazy Learner\": it does not build any classification model, but directly learns from the training dataset and starts processing data only when it is given a test datapoint to classify.\n",
        "\n",
        "Based on these characteristics, in the long run in a medical office/hospital, as datasets grow incrementally (patient per patient), a KNN method might work better than a Random Forest.\n",
        "\n",
        "In this exercise our baseline accuracy is 69%, optimized KNN 74.11% and optimized Random Forest Classifier 68%. Our Random Forest Classifer model is outperformd by a baseline which means we will not use it. KNN is better suited for our project. Features of importance to predict the event of death are serum creatinine and ejection fraction. More discussion with subject experts are necessary to perhaps tweak our data better and improve our model better."
      ]
    }
  ]
}